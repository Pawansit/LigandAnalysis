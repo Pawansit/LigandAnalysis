{
 "cells": [
  {
   "cell_type": "code",
   "execution_count": 38,
   "metadata": {},
   "outputs": [],
   "source": [
    "import pandas as pd\n",
    "from rdkit.Chem import Draw\n",
    "from rdkit.Chem import PandasTools\n",
    "from rdkit.Chem.Draw import IPythonConsole\n",
    "from rdkit import Chem\n",
    "from rdkit.Chem import AllChem\n",
    "from rdkit.Chem import rdFMCS\n",
    "from rdkit.Chem import RWMol\n",
    "from collections import defaultdict\n",
    "from rdkit.Chem.rdDepictor import SetPreferCoordGen\n",
    "SetPreferCoordGen(True)\n",
    "from rdkit import RDPaths\n",
    "import os\n",
    "\n",
    "import pandas as pd\n",
    "from rdkit.Chem import Draw\n",
    "from rdkit.Chem import PandasTools\n",
    "from rdkit.Chem.Draw import IPythonConsole\n",
    "from rdkit import Chem\n",
    "from rdkit.Chem import AllChem\n",
    "from rdkit.Chem import rdFMCS\n",
    "from rdkit.Chem import RWMol\n",
    "from collections import defaultdict\n",
    "from rdkit.Chem.rdDepictor import SetPreferCoordGen\n",
    "SetPreferCoordGen(True)\n",
    "from rdkit import RDPaths\n",
    "import os"
   ]
  },
  {
   "cell_type": "code",
   "execution_count": 39,
   "metadata": {},
   "outputs": [],
   "source": [
    "#Read the data strutures\n",
    "Suppl = Chem.SDMolSupplier('80-selected-cqr-conf.sdf')"
   ]
  },
  {
   "cell_type": "code",
   "execution_count": 40,
   "metadata": {},
   "outputs": [],
   "source": [
    "## Remove the redundant structures\n",
    "uni = []\n",
    "uni_Stru = []\n",
    "\n",
    "for x in Suppl:\n",
    "    if x is not None:\n",
    "        Name = x.GetProp('_Name')\n",
    "        if Name not in uni:\n",
    "            uni.append(Name)\n",
    "            uni_Stru.append(x)"
   ]
  },
  {
   "cell_type": "code",
   "execution_count": 41,
   "metadata": {},
   "outputs": [],
   "source": [
    "for m in uni_Stru:\n",
    "    AllChem.Compute2DCoords(m)"
   ]
  },
  {
   "cell_type": "code",
   "execution_count": 42,
   "metadata": {},
   "outputs": [],
   "source": [
    "mcs = rdFMCS.FindMCS(uni_Stru[:4], completeRingsOnly=True, ringMatchesRingOnly=True)"
   ]
  },
  {
   "cell_type": "code",
   "execution_count": 43,
   "metadata": {},
   "outputs": [],
   "source": [
    "core = Chem.MolFromSmarts(mcs.smartsString)\n"
   ]
  },
  {
   "cell_type": "code",
   "execution_count": 44,
   "metadata": {},
   "outputs": [
    {
     "data": {
      "image/png": "[encoded data removed]",
      "text/plain": [
       "<rdkit.Chem.rdchem.Mol at 0x7fbebeff2e40>"
      ]
     },
     "execution_count": 44,
     "metadata": {},
     "output_type": "execute_result"
    }
   ],
   "source": [
    "core"
   ]
  },
  {
   "cell_type": "code",
   "execution_count": 52,
   "metadata": {},
   "outputs": [],
   "source": [
    "class RGroupDecomposer():\n",
    " \n",
    "    def __init__(self, mols, core):\n",
    "        self.mols = mols\n",
    "        self.core = core\n",
    "         \n",
    "    def get_scaffold(self):\n",
    "        emol = RWMol(self.core)\n",
    "        atms = [a for a in emol.GetAtoms()]\n",
    "        for a in atms:\n",
    "            if not a.IsInRing():\n",
    "                emol.RemoveAtom(a.GetIdx())\n",
    "        return emol.GetMol()\n",
    "     \n",
    "    def rg_decompose(self):\n",
    "        self.coremol = self.get_scaffold()\n",
    "        self.match_mols = [mol for mol in self.mols if mol.HasSubstructMatch(self.coremol)]\n",
    "        self.hmols = [Chem.AddHs(mol) for mol in self.match_mols]\n",
    "        [AllChem.Compute2DCoords(mol) for mol in self.hmols]\n",
    "        self.side_chains = [Chem.ReplaceCore(mol, self.coremol) for mol in self.hmols]\n",
    "        self.core_info = Chem.ReplaceSidechains(self.hmols[0], self.coremol)\n",
    "         \n",
    "    def get_df(self):\n",
    "        data = defaultdict(list)\n",
    "        for i, side_chains in enumerate(self.side_chains):\n",
    "            # Thank you for comment! fixed it\n",
    "            data['mol'].append(Chem.MolToSmiles(self.match_mols[i]))\n",
    "            side_chains = Chem.MolToSmiles(side_chains).split('.')\n",
    "            for idx, side_chain in enumerate(side_chains):\n",
    "                side_chain = Chem.MolToSmiles(Chem.RemoveHs(Chem.MolFromSmiles(side_chain)))\n",
    "                data['R_{}'.format(idx+1)].append(side_chain)\n",
    "            data['core'].append(Chem.MolToSmiles(self.core_info))\n",
    "             \n",
    "        df = pd.DataFrame(data)\n",
    "        return df\n",
    " \n",
    "# this is helper function to convert dataframe of smiles to dataframe of ROMol.\n",
    "def allsmi2rdmol(df):\n",
    "    cols = df.columns.to_list()\n",
    "    for col in cols:\n",
    "        PandasTools.AddMoleculeColumnToFrame(df, smilesCol=str(col), molCol=str(col))\n",
    "    return df"
   ]
  },
  {
   "cell_type": "code",
   "execution_count": 45,
   "metadata": {},
   "outputs": [],
   "source": [
    "class RGroupDecomposer():\n",
    "\n",
    "    def __init__(self, mols, core):\n",
    "        self.mols = mols\n",
    "        self.core = core\n",
    "        \n",
    "    def get_scaffold(self):\n",
    "        emol = RWMol(self.core)\n",
    "        atms = [a for a in emol.GetAtoms()]\n",
    "        for a in atms:\n",
    "            if not a.IsInRing():\n",
    "                emol.RemoveAtom(a.GetIdx())\n",
    "        return emol.GetMol()\n",
    "    \n",
    "    def rg_decompose(self):\n",
    "        self.coremol = self.get_scaffold()\n",
    "        self.match_mols = [mol for mol in self.mols if mol.HasSubstructMatch(self.coremol)]\n",
    "        self.hmols = [Chem.AddHs(mol) for mol in self.match_mols]\n",
    "        [AllChem.Compute2DCoords(mol) for mol in self.hmols]\n",
    "        self.side_chains = [Chem.ReplaceCore(mol, self.coremol) for mol in self.hmols]\n",
    "        self.core_info = Chem.ReplaceSidechains(self.hmols[0], self.coremol)\n",
    "        \n",
    "    def get_df(self):\n",
    "        data = defaultdict(list)\n",
    "        for i, side_chains in enumerate(self.side_chains):\n",
    "            data['mol'].append(Chem.MolToSmiles(self.match_mols[i]))\n",
    "            side_chains = Chem.MolToSmiles(side_chains).split('.')\n",
    "            for idx, side_chain in enumerate(side_chains):\n",
    "                side_chain = Chem.MolToSmiles(Chem.RemoveHs(Chem.MolFromSmiles(side_chain)))\n",
    "                data['R_{}'.format(idx+1)].append(side_chain)\n",
    "            data['core'].append(Chem.MolToSmiles(self.core_info))\n",
    "            \n",
    "        df = pd.DataFrame(data)\n",
    "        return df\n",
    "    \n",
    "# this is helper function to convert dataframe of smiles to dataframe of ROMol.\n",
    "def allsmi2rdmol(df):\n",
    "    cols = df.columns.to_list()\n",
    "    for col in cols:\n",
    "        PandasTools.AddMoleculeColumnToFrame(df, smilesCol=str(col), molCol=str(col))\n",
    "    return df"
   ]
  },
  {
   "cell_type": "code",
   "execution_count": null,
   "metadata": {},
   "outputs": [],
   "source": [
    "rgd = RGroupDecomposer(mols[:40], core)\n",
    "rgd.rg_decompose()\n",
    "df = rgd.get_df()\n",
    "newdf = allsmi2rdmol(df)\n",
    "from IPython.display import display_html\n",
    "from IPython.display import HTML\n",
    "HTML(df.to_html())"
   ]
  },
  {
   "cell_type": "code",
   "execution_count": 46,
   "metadata": {},
   "outputs": [],
   "source": [
    "rgd = RGroupDecomposer(uni_Stru[:40], core)\n",
    "rgd.rg_decompose()\n",
    "df = rgd.get_df()"
   ]
  },
  {
   "cell_type": "code",
   "execution_count": 47,
   "metadata": {},
   "outputs": [
    {
     "data": {
      "text/html": [
       "<div>\n",
       "<style scoped>\n",
       "    .dataframe tbody tr th:only-of-type {\n",
       "        vertical-align: middle;\n",
       "    }\n",
       "\n",
       "    .dataframe tbody tr th {\n",
       "        vertical-align: top;\n",
       "    }\n",
       "\n",
       "    .dataframe thead th {\n",
       "        text-align: right;\n",
       "    }\n",
       "</style>\n",
       "<table border=\"1\" class=\"dataframe\">\n",
       "  <thead>\n",
       "    <tr style=\"text-align: right;\">\n",
       "      <th></th>\n",
       "      <th>mol</th>\n",
       "      <th>R_1</th>\n",
       "      <th>R_2</th>\n",
       "      <th>R_3</th>\n",
       "      <th>R_4</th>\n",
       "      <th>R_5</th>\n",
       "      <th>R_6</th>\n",
       "      <th>R_7</th>\n",
       "      <th>R_8</th>\n",
       "      <th>core</th>\n",
       "    </tr>\n",
       "  </thead>\n",
       "  <tbody>\n",
       "    <tr>\n",
       "      <th>0</th>\n",
       "      <td>CC[NH+](CCCCCNc1cc[nH+]c2cc(Cl)ccc12)CCNS(=O)(=O)c1cccc2c(N(C)C)cccc12</td>\n",
       "      <td>[1*]NCCCCC[NH+](CC)CCNS(=O)(=O)c1cccc2c(N(C)C)cccc12</td>\n",
       "      <td>[2*][H]</td>\n",
       "      <td>[3*][H]</td>\n",
       "      <td>[4*][H]</td>\n",
       "      <td>[5*][H]</td>\n",
       "      <td>[6*][H]</td>\n",
       "      <td>[7*]Cl</td>\n",
       "      <td>[8*][H]</td>\n",
       "      <td>[1*]c1c([2*])c([3*])[n+]([4*])c2c([8*])c([7*])c([6*])c([5*])c12</td>\n",
       "    </tr>\n",
       "    <tr>\n",
       "      <th>1</th>\n",
       "      <td>O=C(NCCCNc1cc[nH+]c2cc(Cl)ccc12)c1c(F)c(F)c(F)c(F)c1F</td>\n",
       "      <td>[1*]NCCCNC(=O)c1c(F)c(F)c(F)c(F)c1F</td>\n",
       "      <td>[2*][H]</td>\n",
       "      <td>[3*][H]</td>\n",
       "      <td>[4*][H]</td>\n",
       "      <td>[5*][H]</td>\n",
       "      <td>[6*][H]</td>\n",
       "      <td>[7*]Cl</td>\n",
       "      <td>[8*][H]</td>\n",
       "      <td>[1*]c1c([2*])c([3*])[n+]([4*])c2c([8*])c([7*])c([6*])c([5*])c12</td>\n",
       "    </tr>\n",
       "    <tr>\n",
       "      <th>2</th>\n",
       "      <td>CC[NH+](CCNc1cc[nH+]c2cc(Cl)ccc12)CCNS(=O)(=O)c1ccc(Oc2ccccc2)nc1</td>\n",
       "      <td>[1*]NCC[NH+](CC)CCNS(=O)(=O)c1ccc(Oc2ccccc2)nc1</td>\n",
       "      <td>[2*][H]</td>\n",
       "      <td>[3*][H]</td>\n",
       "      <td>[4*][H]</td>\n",
       "      <td>[5*][H]</td>\n",
       "      <td>[6*][H]</td>\n",
       "      <td>[7*]Cl</td>\n",
       "      <td>[8*][H]</td>\n",
       "      <td>[1*]c1c([2*])c([3*])[n+]([4*])c2c([8*])c([7*])c([6*])c([5*])c12</td>\n",
       "    </tr>\n",
       "  </tbody>\n",
       "</table>\n",
       "</div>"
      ],
      "text/plain": [
       "                                                 mol  \\\n",
       "0  CC[NH+](CCCCCNc1cc[nH+]c2cc(Cl)ccc12)CCNS(=O)(...   \n",
       "1  O=C(NCCCNc1cc[nH+]c2cc(Cl)ccc12)c1c(F)c(F)c(F)...   \n",
       "2  CC[NH+](CCNc1cc[nH+]c2cc(Cl)ccc12)CCNS(=O)(=O)...   \n",
       "\n",
       "                                                 R_1      R_2      R_3  \\\n",
       "0  [1*]NCCCCC[NH+](CC)CCNS(=O)(=O)c1cccc2c(N(C)C)...  [2*][H]  [3*][H]   \n",
       "1                [1*]NCCCNC(=O)c1c(F)c(F)c(F)c(F)c1F  [2*][H]  [3*][H]   \n",
       "2    [1*]NCC[NH+](CC)CCNS(=O)(=O)c1ccc(Oc2ccccc2)nc1  [2*][H]  [3*][H]   \n",
       "\n",
       "       R_4      R_5      R_6     R_7      R_8  \\\n",
       "0  [4*][H]  [5*][H]  [6*][H]  [7*]Cl  [8*][H]   \n",
       "1  [4*][H]  [5*][H]  [6*][H]  [7*]Cl  [8*][H]   \n",
       "2  [4*][H]  [5*][H]  [6*][H]  [7*]Cl  [8*][H]   \n",
       "\n",
       "                                                core  \n",
       "0  [1*]c1c([2*])c([3*])[n+]([4*])c2c([8*])c([7*])...  \n",
       "1  [1*]c1c([2*])c([3*])[n+]([4*])c2c([8*])c([7*])...  \n",
       "2  [1*]c1c([2*])c([3*])[n+]([4*])c2c([8*])c([7*])...  "
      ]
     },
     "execution_count": 47,
     "metadata": {},
     "output_type": "execute_result"
    }
   ],
   "source": [
    "df.head(3)"
   ]
  },
  {
   "cell_type": "code",
   "execution_count": 48,
   "metadata": {},
   "outputs": [
    {
     "data": {
      "text/plain": [
       "['mol', 'R_1', 'R_2', 'R_3', 'R_4', 'R_5', 'R_6', 'R_7', 'R_8', 'core']"
      ]
     },
     "execution_count": 48,
     "metadata": {},
     "output_type": "execute_result"
    }
   ],
   "source": [
    "df.columns.to_list()"
   ]
  },
  {
   "cell_type": "code",
   "execution_count": 51,
   "metadata": {},
   "outputs": [
    {
     "ename": "TypeError",
     "evalue": "No registered converter was able to produce a C++ rvalue of type std::__cxx11::basic_string<wchar_t, std::char_traits<wchar_t>, std::allocator<wchar_t> > from this Python object of type Mol",
     "output_type": "error",
     "traceback": [
      "\u001b[0;31m---------------------------------------------------------------------------\u001b[0m",
      "\u001b[0;31mTypeError\u001b[0m                                 Traceback (most recent call last)",
      "\u001b[0;32m<ipython-input-51-0ba9320c245a>\u001b[0m in \u001b[0;36m<module>\u001b[0;34m\u001b[0m\n\u001b[0;32m----> 1\u001b[0;31m \u001b[0mnewdf\u001b[0m \u001b[0;34m=\u001b[0m \u001b[0mallsmi2rdmol\u001b[0m\u001b[0;34m(\u001b[0m\u001b[0mdf\u001b[0m\u001b[0;34m)\u001b[0m\u001b[0;34m\u001b[0m\u001b[0;34m\u001b[0m\u001b[0m\n\u001b[0m\u001b[1;32m      2\u001b[0m \u001b[0;32mfrom\u001b[0m \u001b[0mIPython\u001b[0m\u001b[0;34m.\u001b[0m\u001b[0mdisplay\u001b[0m \u001b[0;32mimport\u001b[0m \u001b[0mdisplay_html\u001b[0m\u001b[0;34m\u001b[0m\u001b[0;34m\u001b[0m\u001b[0m\n\u001b[1;32m      3\u001b[0m \u001b[0;32mfrom\u001b[0m \u001b[0mIPython\u001b[0m\u001b[0;34m.\u001b[0m\u001b[0mdisplay\u001b[0m \u001b[0;32mimport\u001b[0m \u001b[0mHTML\u001b[0m\u001b[0;34m\u001b[0m\u001b[0;34m\u001b[0m\u001b[0m\n\u001b[1;32m      4\u001b[0m \u001b[0mHTML\u001b[0m\u001b[0;34m(\u001b[0m\u001b[0mdf\u001b[0m\u001b[0;34m.\u001b[0m\u001b[0mto_html\u001b[0m\u001b[0;34m(\u001b[0m\u001b[0;34m)\u001b[0m\u001b[0;34m)\u001b[0m\u001b[0;34m\u001b[0m\u001b[0;34m\u001b[0m\u001b[0m\n",
      "\u001b[0;32m<ipython-input-45-a2c573ea47b4>\u001b[0m in \u001b[0;36mallsmi2rdmol\u001b[0;34m(df)\u001b[0m\n\u001b[1;32m     38\u001b[0m     \u001b[0mcols\u001b[0m \u001b[0;34m=\u001b[0m \u001b[0mdf\u001b[0m\u001b[0;34m.\u001b[0m\u001b[0mcolumns\u001b[0m\u001b[0;34m.\u001b[0m\u001b[0mto_list\u001b[0m\u001b[0;34m(\u001b[0m\u001b[0;34m)\u001b[0m\u001b[0;34m\u001b[0m\u001b[0;34m\u001b[0m\u001b[0m\n\u001b[1;32m     39\u001b[0m     \u001b[0;32mfor\u001b[0m \u001b[0mcol\u001b[0m \u001b[0;32min\u001b[0m \u001b[0mcols\u001b[0m\u001b[0;34m:\u001b[0m\u001b[0;34m\u001b[0m\u001b[0;34m\u001b[0m\u001b[0m\n\u001b[0;32m---> 40\u001b[0;31m         \u001b[0mPandasTools\u001b[0m\u001b[0;34m.\u001b[0m\u001b[0mAddMoleculeColumnToFrame\u001b[0m\u001b[0;34m(\u001b[0m\u001b[0mdf\u001b[0m\u001b[0;34m,\u001b[0m \u001b[0msmilesCol\u001b[0m\u001b[0;34m=\u001b[0m\u001b[0mstr\u001b[0m\u001b[0;34m(\u001b[0m\u001b[0mcol\u001b[0m\u001b[0;34m)\u001b[0m\u001b[0;34m,\u001b[0m \u001b[0mmolCol\u001b[0m\u001b[0;34m=\u001b[0m\u001b[0mstr\u001b[0m\u001b[0;34m(\u001b[0m\u001b[0mcol\u001b[0m\u001b[0;34m)\u001b[0m\u001b[0;34m)\u001b[0m\u001b[0;34m\u001b[0m\u001b[0;34m\u001b[0m\u001b[0m\n\u001b[0m\u001b[1;32m     41\u001b[0m     \u001b[0;32mreturn\u001b[0m \u001b[0mdf\u001b[0m\u001b[0;34m\u001b[0m\u001b[0;34m\u001b[0m\u001b[0m\n",
      "\u001b[0;32m~/anaconda3/envs/cadd-py36/lib/python3.6/site-packages/rdkit/Chem/PandasTools.py\u001b[0m in \u001b[0;36mAddMoleculeColumnToFrame\u001b[0;34m(frame, smilesCol, molCol, includeFingerprints)\u001b[0m\n\u001b[1;32m    289\u001b[0m     '''\n\u001b[1;32m    290\u001b[0m     \u001b[0;32mif\u001b[0m \u001b[0;32mnot\u001b[0m \u001b[0mincludeFingerprints\u001b[0m\u001b[0;34m:\u001b[0m\u001b[0;34m\u001b[0m\u001b[0;34m\u001b[0m\u001b[0m\n\u001b[0;32m--> 291\u001b[0;31m         \u001b[0mframe\u001b[0m\u001b[0;34m[\u001b[0m\u001b[0mmolCol\u001b[0m\u001b[0;34m]\u001b[0m \u001b[0;34m=\u001b[0m \u001b[0mframe\u001b[0m\u001b[0;34m[\u001b[0m\u001b[0msmilesCol\u001b[0m\u001b[0;34m]\u001b[0m\u001b[0;34m.\u001b[0m\u001b[0mmap\u001b[0m\u001b[0;34m(\u001b[0m\u001b[0mChem\u001b[0m\u001b[0;34m.\u001b[0m\u001b[0mMolFromSmiles\u001b[0m\u001b[0;34m)\u001b[0m\u001b[0;34m\u001b[0m\u001b[0;34m\u001b[0m\u001b[0m\n\u001b[0m\u001b[1;32m    292\u001b[0m     \u001b[0;32melse\u001b[0m\u001b[0;34m:\u001b[0m\u001b[0;34m\u001b[0m\u001b[0;34m\u001b[0m\u001b[0m\n\u001b[1;32m    293\u001b[0m         frame[molCol] = frame[smilesCol].map(\n",
      "\u001b[0;32m~/anaconda3/envs/cadd-py36/lib/python3.6/site-packages/pandas/core/series.py\u001b[0m in \u001b[0;36mmap\u001b[0;34m(self, arg, na_action)\u001b[0m\n\u001b[1;32m   3380\u001b[0m         \"\"\"\n\u001b[1;32m   3381\u001b[0m         new_values = super(Series, self)._map_values(\n\u001b[0;32m-> 3382\u001b[0;31m             arg, na_action=na_action)\n\u001b[0m\u001b[1;32m   3383\u001b[0m         return self._constructor(new_values,\n\u001b[1;32m   3384\u001b[0m                                  index=self.index).__finalize__(self)\n",
      "\u001b[0;32m~/anaconda3/envs/cadd-py36/lib/python3.6/site-packages/pandas/core/base.py\u001b[0m in \u001b[0;36m_map_values\u001b[0;34m(self, mapper, na_action)\u001b[0m\n\u001b[1;32m   1216\u001b[0m \u001b[0;34m\u001b[0m\u001b[0m\n\u001b[1;32m   1217\u001b[0m         \u001b[0;31m# mapper is a function\u001b[0m\u001b[0;34m\u001b[0m\u001b[0;34m\u001b[0m\u001b[0;34m\u001b[0m\u001b[0m\n\u001b[0;32m-> 1218\u001b[0;31m         \u001b[0mnew_values\u001b[0m \u001b[0;34m=\u001b[0m \u001b[0mmap_f\u001b[0m\u001b[0;34m(\u001b[0m\u001b[0mvalues\u001b[0m\u001b[0;34m,\u001b[0m \u001b[0mmapper\u001b[0m\u001b[0;34m)\u001b[0m\u001b[0;34m\u001b[0m\u001b[0;34m\u001b[0m\u001b[0m\n\u001b[0m\u001b[1;32m   1219\u001b[0m \u001b[0;34m\u001b[0m\u001b[0m\n\u001b[1;32m   1220\u001b[0m         \u001b[0;32mreturn\u001b[0m \u001b[0mnew_values\u001b[0m\u001b[0;34m\u001b[0m\u001b[0;34m\u001b[0m\u001b[0m\n",
      "\u001b[0;32mpandas/_libs/lib.pyx\u001b[0m in \u001b[0;36mpandas._libs.lib.map_infer\u001b[0;34m()\u001b[0m\n",
      "\u001b[0;31mTypeError\u001b[0m: No registered converter was able to produce a C++ rvalue of type std::__cxx11::basic_string<wchar_t, std::char_traits<wchar_t>, std::allocator<wchar_t> > from this Python object of type Mol"
     ]
    }
   ],
   "source": [
    "newdf = allsmi2rdmol(df)\n",
    "from IPython.display import display_html\n",
    "from IPython.display import HTML\n",
    "HTML(df.to_html())"
   ]
  },
  {
   "cell_type": "code",
   "execution_count": null,
   "metadata": {},
   "outputs": [],
   "source": []
  }
 ],
 "metadata": {
  "kernelspec": {
   "display_name": "Python [conda env:cadd-py36]",
   "language": "python",
   "name": "conda-env-cadd-py36-py"
  },
  "language_info": {
   "codemirror_mode": {
    "name": "ipython",
    "version": 3
   },
   "file_extension": ".py",
   "mimetype": "text/x-python",
   "name": "python",
   "nbconvert_exporter": "python",
   "pygments_lexer": "ipython3",
   "version": "3.6.8"
  }
 },
 "nbformat": 4,
 "nbformat_minor": 2
}
