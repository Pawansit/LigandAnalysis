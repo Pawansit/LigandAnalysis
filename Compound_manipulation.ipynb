{
 "cells": [
  {
   "cell_type": "code",
   "execution_count": 2,
   "metadata": {},
   "outputs": [],
   "source": [
    "from rdkit import Chem\n",
    "from rdkit.Chem import AllChem\n",
    "from rdkit import RDConfig\n",
    "import os\n",
    "from rdkit.Chem.Draw import IPythonConsole\n",
    "from rdkit.Chem import Draw"
   ]
  },
  {
   "cell_type": "code",
   "execution_count": 3,
   "metadata": {},
   "outputs": [
    {
     "data": {
      "image/png": "[encoded data removed]",
      "text/plain": [
       "<rdkit.Chem.rdchem.Mol at 0x7f64c885a620>"
      ]
     },
     "execution_count": 3,
     "metadata": {},
     "output_type": "execute_result"
    }
   ],
   "source": [
    "Suppl = Chem.SDMolSupplier('80-selected-cqr-conf.sdf')\n",
    "uni = []\n",
    "uni_Stru = []\n",
    "\n",
    "for x in Suppl:\n",
    "    if x is not None:\n",
    "        Name = x.GetProp('_Name')\n",
    "        if Name not in uni:\n",
    "            uni.append(Name)\n",
    "            uni_Stru.append(x)\n",
    "            \n",
    "    \n",
    "Mol_S = [x for x in uni_Stru]\n",
    "Mol_S[0]"
   ]
  },
  {
   "cell_type": "code",
   "execution_count": 11,
   "metadata": {},
   "outputs": [
    {
     "data": {
      "text/plain": [
       "0"
      ]
     },
     "execution_count": 11,
     "metadata": {},
     "output_type": "execute_result"
    }
   ],
   "source": [
    "#Conformers and Conformation Generation\n",
    "\n",
    "import copy\n",
    "tm = copy.deepcopy(Mol_S[0])\n",
    "tm.RemoveAllConformers()\n",
    "tm.GetNumConformers()"
   ]
  },
  {
   "cell_type": "code",
   "execution_count": 12,
   "metadata": {},
   "outputs": [],
   "source": [
    "cids=AllChem.EmbedMultipleConfs(tm,pruneRmsThresh=1.0)"
   ]
  },
  {
   "cell_type": "code",
   "execution_count": 13,
   "metadata": {},
   "outputs": [],
   "source": [
    "#Clean the conformations up using the built-in UFF implementation:\n",
    "for cid in cids: AllChem.UFFOptimizeMolecule(tm,confId=cid)"
   ]
  },
  {
   "cell_type": "code",
   "execution_count": null,
   "metadata": {},
   "outputs": [],
   "source": []
  }
 ],
 "metadata": {
  "kernelspec": {
   "display_name": "Python [conda env:cadd-py36]",
   "language": "python",
   "name": "conda-env-cadd-py36-py"
  },
  "language_info": {
   "codemirror_mode": {
    "name": "ipython",
    "version": 3
   },
   "file_extension": ".py",
   "mimetype": "text/x-python",
   "name": "python",
   "nbconvert_exporter": "python",
   "pygments_lexer": "ipython3",
   "version": "3.6.8"
  }
 },
 "nbformat": 4,
 "nbformat_minor": 2
}
